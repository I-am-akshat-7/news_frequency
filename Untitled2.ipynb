{
 "cells": [
  {
   "cell_type": "code",
   "execution_count": 1,
   "id": "142554e2",
   "metadata": {},
   "outputs": [],
   "source": [
    "import requests\n",
    "\n",
    "from bs4 import BeautifulSoup\n",
    "\n",
    "\n"
   ]
  },
  {
   "cell_type": "code",
   "execution_count": 2,
   "id": "77e796bb",
   "metadata": {},
   "outputs": [],
   "source": [
    "o = requests.get(\"https://www.indiatoday.in/india\").text"
   ]
  },
  {
   "cell_type": "markdown",
   "id": "d4a1abee",
   "metadata": {},
   "source": [
    "# html from the links"
   ]
  },
  {
   "cell_type": "code",
   "execution_count": null,
   "id": "b4e55c79",
   "metadata": {},
   "outputs": [],
   "source": [
    "soup = BeautifulSoup(o, 'html.parser')\n",
    "\n",
    "\n",
    "d = {}\n",
    "c=0\n",
    "for i in soup.find_all(class_=\"B1S3_content__wrap__9mSB6\"):\n",
    "    c+=1\n",
    "    d[c] = f\"https://www.indiatoday.in{i.a['href']}\" \n",
    "    \n",
    "\n",
    "\n",
    "d1 = {}\n",
    "c=0\n",
    "\n",
    "for i in d.values():\n",
    "    c+=1\n",
    "    d1[c] = requests.get(i).text\n",
    "    print(c)\n",
    "     \n",
    "    \n",
    "    \n",
    "    \n",
    "    \n",
    "    "
   ]
  },
  {
   "cell_type": "markdown",
   "id": "b264ceed",
   "metadata": {},
   "source": [
    "# text from html"
   ]
  },
  {
   "cell_type": "code",
   "execution_count": 31,
   "id": "a159c810",
   "metadata": {},
   "outputs": [],
   "source": [
    "text = {}\n",
    "c=0\n",
    "for i in d1.values():\n",
    "    c+=1\n",
    "\n",
    "    for j in BeautifulSoup(i, 'html.parser').find_all(class_=\"jsx-99cc083358cc2e2d Story_description__fq_4S description\"):\n",
    "        x = j.text\n",
    "        \n",
    "        \n",
    "        \n",
    "        \n",
    "    text[c] =  x\n",
    "#     break\n",
    "text1 = []\n",
    "for i in range(1, 21):\n",
    "    \n",
    "    text1.append(text[i].split('--- ENDS ---')[0])\n",
    "    \n",
    "    \n",
    "# text[20]        "
   ]
  },
  {
   "cell_type": "markdown",
   "id": "9b5450b9",
   "metadata": {},
   "source": [
    "# cleaning the text"
   ]
  },
  {
   "cell_type": "code",
   "execution_count": 80,
   "id": "fb5801a3",
   "metadata": {},
   "outputs": [],
   "source": [
    "from nltk.tokenize import word_tokenize\n",
    "from nltk.corpus import stopwords\n",
    "\n",
    "\n",
    "\n",
    "stopword = set(stopwords.words('english'))\n",
    "text2 = [[],[]]\n",
    "\n",
    "def rem_punc(x):\n",
    "    \n",
    "    \n",
    "    return  x.translate(str.maketrans('', '', string.punctuation))\n",
    "    \n",
    "for i in text1:\n",
    "    text2[0].append(rem_punc(i))\n",
    "    \n",
    "\n",
    "for i in text2[0]:\n",
    "    \n",
    "    text_tokens = word_tokenize(i)\n",
    "\n",
    "    \n",
    "    text2[1].append([word for word in text_tokens if not word in stopword])"
   ]
  },
  {
   "cell_type": "markdown",
   "id": "58d4d337",
   "metadata": {},
   "source": [
    "# finding the most occuring word"
   ]
  },
  {
   "cell_type": "code",
   "execution_count": 88,
   "id": "ecf406f3",
   "metadata": {},
   "outputs": [],
   "source": [
    "# text1[0]"
   ]
  },
  {
   "cell_type": "code",
   "execution_count": 77,
   "id": "69c35eee",
   "metadata": {},
   "outputs": [],
   "source": [
    "# stopword"
   ]
  },
  {
   "cell_type": "markdown",
   "id": "f7e7f864",
   "metadata": {},
   "source": []
  },
  {
   "cell_type": "code",
   "execution_count": 94,
   "id": "3299529d",
   "metadata": {},
   "outputs": [],
   "source": [
    "# text2[1][]\n"
   ]
  },
  {
   "cell_type": "code",
   "execution_count": 95,
   "id": "58ad3169",
   "metadata": {},
   "outputs": [],
   "source": [
    "text2 = text2[1]"
   ]
  },
  {
   "cell_type": "code",
   "execution_count": 128,
   "id": "91f3070f",
   "metadata": {},
   "outputs": [],
   "source": [
    "c=0\n",
    "co = -1\n",
    "ct = {}\n",
    "cl = []\n",
    "while True:\n",
    "    co+=1\n",
    "    cl.append([])\n",
    "    for i in text2[co]:\n",
    "        \n",
    "\n",
    "        for j in text2[co]:\n",
    "\n",
    "            if i == j:\n",
    "                c+=1\n",
    "                ct[i] = c\n",
    "\n",
    "        c=0\n",
    "    cl[len(cl)-1].append(ct)\n",
    "    ct = {}\n",
    "#         del ct\n",
    "    if co == 19:\n",
    "        break\n"
   ]
  },
  {
   "cell_type": "code",
   "execution_count": 130,
   "id": "20291bb4",
   "metadata": {},
   "outputs": [
    {
     "data": {
      "text/plain": [
       "20"
      ]
     },
     "execution_count": 130,
     "metadata": {},
     "output_type": "execute_result"
    }
   ],
   "source": [
    "# len(cl)\n",
    "len(cl)\n"
   ]
  },
  {
   "cell_type": "code",
   "execution_count": 127,
   "id": "68da3de1",
   "metadata": {},
   "outputs": [],
   "source": [
    "# text2[0]"
   ]
  },
  {
   "cell_type": "code",
   "execution_count": 108,
   "id": "0a992e3c",
   "metadata": {},
   "outputs": [],
   "source": [
    "# ct"
   ]
  },
  {
   "cell_type": "code",
   "execution_count": null,
   "id": "0975e355",
   "metadata": {},
   "outputs": [],
   "source": []
  }
 ],
 "metadata": {
  "kernelspec": {
   "display_name": "Python 3 (ipykernel)",
   "language": "python",
   "name": "python3"
  },
  "language_info": {
   "codemirror_mode": {
    "name": "ipython",
    "version": 3
   },
   "file_extension": ".py",
   "mimetype": "text/x-python",
   "name": "python",
   "nbconvert_exporter": "python",
   "pygments_lexer": "ipython3",
   "version": "3.10.0"
  }
 },
 "nbformat": 4,
 "nbformat_minor": 5
}
